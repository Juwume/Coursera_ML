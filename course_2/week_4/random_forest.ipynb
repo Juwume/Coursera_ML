{
 "cells": [
  {
   "cell_type": "code",
   "execution_count": null,
   "id": "735096be",
   "metadata": {},
   "outputs": [],
   "source": []
  },
  {
   "cell_type": "code",
   "execution_count": null,
   "id": "335e374a",
   "metadata": {},
   "outputs": [],
   "source": []
  },
  {
   "cell_type": "code",
   "execution_count": 4,
   "id": "e0c06c63",
   "metadata": {},
   "outputs": [],
   "source": [
    "from sklearn.datasets import load_digits\n",
    "import numpy as np\n",
    "import pandas as pd\n",
    "import matplotlib.pylab as plt"
   ]
  },
  {
   "cell_type": "code",
   "execution_count": 5,
   "id": "df15234d",
   "metadata": {},
   "outputs": [
    {
     "name": "stdout",
     "output_type": "stream",
     "text": [
      "Populating the interactive namespace from numpy and matplotlib\n"
     ]
    },
    {
     "name": "stderr",
     "output_type": "stream",
     "text": [
      "C:\\Users\\Maxim\\anaconda3\\lib\\site-packages\\IPython\\core\\magics\\pylab.py:159: UserWarning: pylab import has clobbered these variables: ['plt']\n",
      "`%matplotlib` prevents importing * from pylab and numpy\n",
      "  warn(\"pylab import has clobbered these variables: %s\"  % clobbered +\n"
     ]
    }
   ],
   "source": [
    "%pylab inline"
   ]
  },
  {
   "cell_type": "markdown",
   "id": "787badc9",
   "metadata": {},
   "source": [
    "# Task 1"
   ]
  },
  {
   "cell_type": "code",
   "execution_count": 6,
   "id": "d143466c",
   "metadata": {},
   "outputs": [],
   "source": [
    "data, target = load_digits(return_X_y=True)"
   ]
  },
  {
   "cell_type": "code",
   "execution_count": 7,
   "id": "d3764cdb",
   "metadata": {},
   "outputs": [
    {
     "data": {
      "text/plain": [
       "array([[ 0.,  0.,  5., 13.,  9.,  1.,  0.,  0.,  0.,  0., 13., 15., 10.,\n",
       "        15.,  5.,  0.,  0.,  3., 15.,  2.,  0., 11.,  8.,  0.,  0.,  4.,\n",
       "        12.,  0.,  0.,  8.,  8.,  0.,  0.,  5.,  8.,  0.,  0.,  9.,  8.,\n",
       "         0.,  0.,  4., 11.,  0.,  1., 12.,  7.,  0.,  0.,  2., 14.,  5.,\n",
       "        10., 12.,  0.,  0.,  0.,  0.,  6., 13., 10.,  0.,  0.,  0.],\n",
       "       [ 0.,  0.,  0., 12., 13.,  5.,  0.,  0.,  0.,  0.,  0., 11., 16.,\n",
       "         9.,  0.,  0.,  0.,  0.,  3., 15., 16.,  6.,  0.,  0.,  0.,  7.,\n",
       "        15., 16., 16.,  2.,  0.,  0.,  0.,  0.,  1., 16., 16.,  3.,  0.,\n",
       "         0.,  0.,  0.,  1., 16., 16.,  6.,  0.,  0.,  0.,  0.,  1., 16.,\n",
       "        16.,  6.,  0.,  0.,  0.,  0.,  0., 11., 16., 10.,  0.,  0.]])"
      ]
     },
     "execution_count": 7,
     "metadata": {},
     "output_type": "execute_result"
    }
   ],
   "source": [
    "data[:2]"
   ]
  },
  {
   "cell_type": "code",
   "execution_count": 8,
   "id": "0c3ace3f",
   "metadata": {},
   "outputs": [],
   "source": [
    "from sklearn.model_selection import cross_val_score, train_test_split\n",
    "from sklearn.tree import DecisionTreeClassifier"
   ]
  },
  {
   "cell_type": "code",
   "execution_count": 9,
   "id": "a94885cb",
   "metadata": {},
   "outputs": [],
   "source": [
    "estimator = DecisionTreeClassifier()\n",
    "scores = cross_val_score(estimator,data,target, cv=10, scoring='accuracy')"
   ]
  },
  {
   "cell_type": "code",
   "execution_count": 10,
   "id": "a1a94526",
   "metadata": {
    "scrolled": true
   },
   "outputs": [
    {
     "data": {
      "text/plain": [
       "0.8280291744258225"
      ]
     },
     "execution_count": 10,
     "metadata": {},
     "output_type": "execute_result"
    }
   ],
   "source": [
    "scores.mean()"
   ]
  },
  {
   "cell_type": "code",
   "execution_count": 11,
   "id": "6b3fe6b3",
   "metadata": {},
   "outputs": [],
   "source": [
    "with open('task_1.txt','w') as fout:\n",
    "    fout.write(str(scores.mean()))"
   ]
  },
  {
   "cell_type": "markdown",
   "id": "4ac41e6e",
   "metadata": {},
   "source": [
    "# Task 2"
   ]
  },
  {
   "cell_type": "code",
   "execution_count": 12,
   "id": "2698430a",
   "metadata": {},
   "outputs": [],
   "source": [
    "from sklearn.ensemble import BaggingClassifier"
   ]
  },
  {
   "cell_type": "code",
   "execution_count": 13,
   "id": "fcd7eafe",
   "metadata": {},
   "outputs": [],
   "source": [
    "bagging_classifier = BaggingClassifier(estimator,100)"
   ]
  },
  {
   "cell_type": "code",
   "execution_count": 14,
   "id": "e6f08915",
   "metadata": {},
   "outputs": [],
   "source": [
    "cvs = cross_val_score(bagging_classifier,data,target,cv=10)"
   ]
  },
  {
   "cell_type": "code",
   "execution_count": 15,
   "id": "602ef994",
   "metadata": {
    "scrolled": true
   },
   "outputs": [
    {
     "data": {
      "text/plain": [
       "0.9220639354438237"
      ]
     },
     "execution_count": 15,
     "metadata": {},
     "output_type": "execute_result"
    }
   ],
   "source": [
    "cvs.mean()"
   ]
  },
  {
   "cell_type": "code",
   "execution_count": 16,
   "id": "f1a22247",
   "metadata": {},
   "outputs": [],
   "source": [
    "with open('task_2.txt','w') as fout:\n",
    "    fout.write(str(cvs.mean()))"
   ]
  },
  {
   "cell_type": "markdown",
   "id": "847beeb0",
   "metadata": {},
   "source": [
    "# Task 3"
   ]
  },
  {
   "cell_type": "code",
   "execution_count": 17,
   "id": "8e983f58",
   "metadata": {},
   "outputs": [],
   "source": [
    "import math"
   ]
  },
  {
   "cell_type": "code",
   "execution_count": 18,
   "id": "94449ce5",
   "metadata": {},
   "outputs": [
    {
     "data": {
      "text/plain": [
       "8"
      ]
     },
     "execution_count": 18,
     "metadata": {},
     "output_type": "execute_result"
    }
   ],
   "source": [
    "amount_features = int(math.sqrt(data.shape[1]))\n",
    "amount_features"
   ]
  },
  {
   "cell_type": "code",
   "execution_count": 19,
   "id": "e2034861",
   "metadata": {
    "scrolled": true
   },
   "outputs": [],
   "source": [
    "bagging_classifier = BaggingClassifier(estimator,100,max_features=amount_features)\n"
   ]
  },
  {
   "cell_type": "code",
   "execution_count": 20,
   "id": "36440230",
   "metadata": {},
   "outputs": [],
   "source": [
    "cvs = cross_val_score(bagging_classifier, data, target, cv=10)"
   ]
  },
  {
   "cell_type": "code",
   "execution_count": 21,
   "id": "e6a15e98",
   "metadata": {
    "scrolled": true
   },
   "outputs": [
    {
     "data": {
      "text/plain": [
       "0.9304376163873371"
      ]
     },
     "execution_count": 21,
     "metadata": {},
     "output_type": "execute_result"
    }
   ],
   "source": [
    "cvs.mean()"
   ]
  },
  {
   "cell_type": "code",
   "execution_count": 22,
   "id": "a2567c55",
   "metadata": {},
   "outputs": [],
   "source": [
    "with open('task_3.txt','w') as fout:\n",
    "    fout.write(str(cvs.mean()))"
   ]
  },
  {
   "cell_type": "markdown",
   "id": "7f4c5eed",
   "metadata": {},
   "source": [
    "# Task 4"
   ]
  },
  {
   "cell_type": "code",
   "execution_count": 23,
   "id": "b3382ddc",
   "metadata": {},
   "outputs": [],
   "source": [
    "estimator = DecisionTreeClassifier(max_features=amount_features)"
   ]
  },
  {
   "cell_type": "code",
   "execution_count": 24,
   "id": "a0fbe9d3",
   "metadata": {},
   "outputs": [],
   "source": [
    "bagging_classifier = BaggingClassifier(estimator,100)"
   ]
  },
  {
   "cell_type": "code",
   "execution_count": 25,
   "id": "e4a9c9a5",
   "metadata": {},
   "outputs": [],
   "source": [
    "cvs = cross_val_score(bagging_classifier, data, target, cv=10)"
   ]
  },
  {
   "cell_type": "code",
   "execution_count": 26,
   "id": "616cee84",
   "metadata": {},
   "outputs": [
    {
     "data": {
      "text/plain": [
       "0.9493544382371197"
      ]
     },
     "execution_count": 26,
     "metadata": {},
     "output_type": "execute_result"
    }
   ],
   "source": [
    "cvs.mean()"
   ]
  },
  {
   "cell_type": "code",
   "execution_count": 27,
   "id": "2e00b20a",
   "metadata": {},
   "outputs": [],
   "source": [
    "with open('task_4.txt','w') as fout:\n",
    "    fout.write(str(cvs.mean()))"
   ]
  },
  {
   "cell_type": "markdown",
   "id": "7496c395",
   "metadata": {},
   "source": [
    "# Task 5\n"
   ]
  },
  {
   "cell_type": "code",
   "execution_count": 28,
   "id": "9d45440b",
   "metadata": {},
   "outputs": [],
   "source": [
    "from sklearn.ensemble import RandomForestClassifier"
   ]
  },
  {
   "cell_type": "code",
   "execution_count": 29,
   "id": "8b0a1da1",
   "metadata": {},
   "outputs": [],
   "source": [
    "rnd_forest = RandomForestClassifier(max_depth=2)"
   ]
  },
  {
   "cell_type": "code",
   "execution_count": 30,
   "id": "dda7f470",
   "metadata": {},
   "outputs": [
    {
     "data": {
      "text/plain": [
       "0.7957386716325264"
      ]
     },
     "execution_count": 30,
     "metadata": {},
     "output_type": "execute_result"
    }
   ],
   "source": [
    "cvs = cross_val_score(rnd_forest, data, target, cv = 10)\n",
    "cvs.mean()"
   ]
  },
  {
   "cell_type": "code",
   "execution_count": 31,
   "id": "04437162",
   "metadata": {},
   "outputs": [
    {
     "data": {
      "text/plain": [
       "0.9449037864680323"
      ]
     },
     "execution_count": 31,
     "metadata": {},
     "output_type": "execute_result"
    }
   ],
   "source": [
    "rnd_forest = RandomForestClassifier(max_depth=10)\n",
    "cvs = cross_val_score(rnd_forest, data, target, cv = 10)\n",
    "cvs.mean()"
   ]
  },
  {
   "cell_type": "code",
   "execution_count": 32,
   "id": "34261d73",
   "metadata": {},
   "outputs": [
    {
     "data": {
      "text/plain": [
       "0.8798168839230291"
      ]
     },
     "execution_count": 32,
     "metadata": {},
     "output_type": "execute_result"
    }
   ],
   "source": [
    "rnd_forest = RandomForestClassifier(5,max_depth=10,)\n",
    "cvs = cross_val_score(rnd_forest, data, target, cv = 10)\n",
    "cvs.mean()"
   ]
  },
  {
   "cell_type": "code",
   "execution_count": 33,
   "id": "a1662580",
   "metadata": {},
   "outputs": [
    {
     "data": {
      "text/plain": [
       "0.9148758535071384"
      ]
     },
     "execution_count": 33,
     "metadata": {},
     "output_type": "execute_result"
    }
   ],
   "source": [
    "rnd_forest = RandomForestClassifier(10,max_depth=10,)\n",
    "cvs = cross_val_score(rnd_forest, data, target, cv = 10)\n",
    "cvs.mean()"
   ]
  },
  {
   "cell_type": "code",
   "execution_count": 34,
   "id": "28c6c9df",
   "metadata": {},
   "outputs": [
    {
     "data": {
      "text/plain": [
       "0.9287554314090627"
      ]
     },
     "execution_count": 34,
     "metadata": {},
     "output_type": "execute_result"
    }
   ],
   "source": [
    "rnd_forest = RandomForestClassifier(15,max_depth=10,)\n",
    "cvs = cross_val_score(rnd_forest, data, target, cv = 10)\n",
    "cvs.mean()"
   ]
  },
  {
   "cell_type": "code",
   "execution_count": 35,
   "id": "ab7952ba",
   "metadata": {},
   "outputs": [
    {
     "data": {
      "text/plain": [
       "0.9348603351955307"
      ]
     },
     "execution_count": 35,
     "metadata": {},
     "output_type": "execute_result"
    }
   ],
   "source": [
    "rnd_forest = RandomForestClassifier(max_depth=10,max_features=40)\n",
    "cvs = cross_val_score(rnd_forest, data, target, cv = 10)\n",
    "cvs.mean()"
   ]
  },
  {
   "cell_type": "code",
   "execution_count": 36,
   "id": "ebb16a50",
   "metadata": {},
   "outputs": [
    {
     "data": {
      "text/plain": [
       "0.9460242085661079"
      ]
     },
     "execution_count": 36,
     "metadata": {},
     "output_type": "execute_result"
    }
   ],
   "source": [
    "rnd_forest = RandomForestClassifier(max_depth=10,max_features=5)\n",
    "cvs = cross_val_score(rnd_forest, data, target, cv = 10)\n",
    "cvs.mean()"
   ]
  },
  {
   "cell_type": "code",
   "execution_count": 37,
   "id": "bf84eaed",
   "metadata": {},
   "outputs": [
    {
     "data": {
      "text/plain": [
       "[<matplotlib.lines.Line2D at 0x1e4de903520>]"
      ]
     },
     "execution_count": 37,
     "metadata": {},
     "output_type": "execute_result"
    },
    {
     "data": {
      "image/png": "[encoded data removed]",
      "text/plain": [
       "<Figure size 432x288 with 1 Axes>"
      ]
     },
     "metadata": {
      "needs_background": "light"
     },
     "output_type": "display_data"
    }
   ],
   "source": [
    "depths = [5,10,15,20,30]\n",
    "means = []\n",
    "for ind, val in enumerate(depths):\n",
    "    rnd_forest = RandomForestClassifier(max_depth=val)\n",
    "    cvs = cross_val_score(rnd_forest, data, target, cv = 10)\n",
    "    means.append(cvs.mean())\n",
    "plt.plot(depths,means)\n"
   ]
  },
  {
   "cell_type": "code",
   "execution_count": 38,
   "id": "f2e359ef",
   "metadata": {
    "scrolled": false
   },
   "outputs": [
    {
     "data": {
      "text/plain": [
       "[0.9098324022346368,\n",
       " 0.9460148975791434,\n",
       " 0.9460148975791434,\n",
       " 0.9482495344506516,\n",
       " 0.9443482309124767]"
      ]
     },
     "execution_count": 38,
     "metadata": {},
     "output_type": "execute_result"
    }
   ],
   "source": [
    "means"
   ]
  },
  {
   "cell_type": "code",
   "execution_count": 39,
   "id": "19ba3e2a",
   "metadata": {},
   "outputs": [
    {
     "data": {
      "text/plain": [
       "[5, 10, 15, 20, 30]"
      ]
     },
     "execution_count": 39,
     "metadata": {},
     "output_type": "execute_result"
    }
   ],
   "source": [
    "depths"
   ]
  },
  {
   "cell_type": "code",
   "execution_count": 40,
   "id": "ca1ee0bb",
   "metadata": {},
   "outputs": [],
   "source": [
    "plt.show()"
   ]
  },
  {
   "cell_type": "code",
   "execution_count": 41,
   "id": "f3884365",
   "metadata": {},
   "outputs": [],
   "source": [
    "with open('task_5.txt','w') as fout:\n",
    "    fout.write('2 3 4 7')"
   ]
  }
 ],
 "metadata": {
  "kernelspec": {
   "display_name": "Python 3",
   "language": "python",
   "name": "python3"
  },
  "language_info": {
   "codemirror_mode": {
    "name": "ipython",
    "version": 3
   },
   "file_extension": ".py",
   "mimetype": "text/x-python",
   "name": "python",
   "nbconvert_exporter": "python",
   "pygments_lexer": "ipython3",
   "version": "3.8.8"
  }
 },
 "nbformat": 4,
 "nbformat_minor": 5
}
