{
 "cells": [
  {
   "cell_type": "code",
   "execution_count": 1,
   "id": "f8264a3b",
   "metadata": {},
   "outputs": [],
   "source": [
    "import numpy as np\n",
    "from sklearn import datasets, model_selection, metrics\n"
   ]
  },
  {
   "cell_type": "code",
   "execution_count": 2,
   "id": "27e68457",
   "metadata": {},
   "outputs": [],
   "source": [
    "data, target = datasets.load_digits(return_X_y=True)"
   ]
  },
  {
   "cell_type": "code",
   "execution_count": 3,
   "id": "bc2d1813",
   "metadata": {},
   "outputs": [
    {
     "data": {
      "text/plain": [
       "array([ 0.,  0.,  5., 13.,  9.,  1.,  0.,  0.,  0.,  0., 13., 15., 10.,\n",
       "       15.,  5.,  0.,  0.,  3., 15.,  2.,  0., 11.,  8.,  0.,  0.,  4.,\n",
       "       12.,  0.,  0.,  8.,  8.,  0.,  0.,  5.,  8.,  0.,  0.,  9.,  8.,\n",
       "        0.,  0.,  4., 11.,  0.,  1., 12.,  7.,  0.,  0.,  2., 14.,  5.,\n",
       "       10., 12.,  0.,  0.,  0.,  0.,  6., 13., 10.,  0.,  0.,  0.])"
      ]
     },
     "execution_count": 3,
     "metadata": {},
     "output_type": "execute_result"
    }
   ],
   "source": [
    "data[0]"
   ]
  },
  {
   "cell_type": "code",
   "execution_count": 4,
   "id": "9909b00a",
   "metadata": {},
   "outputs": [
    {
     "data": {
      "text/plain": [
       "0"
      ]
     },
     "execution_count": 4,
     "metadata": {},
     "output_type": "execute_result"
    }
   ],
   "source": [
    "target[0]"
   ]
  },
  {
   "cell_type": "code",
   "execution_count": 5,
   "id": "de925ba0",
   "metadata": {},
   "outputs": [
    {
     "data": {
      "text/plain": [
       "(1797, 64)"
      ]
     },
     "execution_count": 5,
     "metadata": {},
     "output_type": "execute_result"
    }
   ],
   "source": [
    "data.shape"
   ]
  },
  {
   "cell_type": "code",
   "execution_count": 8,
   "id": "a6e576ba",
   "metadata": {},
   "outputs": [
    {
     "data": {
      "text/plain": [
       "1347"
      ]
     },
     "execution_count": 8,
     "metadata": {},
     "output_type": "execute_result"
    }
   ],
   "source": [
    "train_ind = int(data.shape[0] * 0.75)\n",
    "train_ind"
   ]
  },
  {
   "cell_type": "code",
   "execution_count": 9,
   "id": "0a999f0d",
   "metadata": {},
   "outputs": [
    {
     "data": {
      "text/plain": [
       "(1347, 64)"
      ]
     },
     "execution_count": 9,
     "metadata": {},
     "output_type": "execute_result"
    }
   ],
   "source": [
    "X_train = data[:train_ind]\n",
    "X_test = data[train_ind:]\n",
    "y_train = target[:train_ind]\n",
    "y_test = target[train_ind:]\n",
    "X_train.shape"
   ]
  },
  {
   "cell_type": "code",
   "execution_count": 10,
   "id": "129fedfd",
   "metadata": {},
   "outputs": [
    {
     "data": {
      "text/plain": [
       "(450, 64)"
      ]
     },
     "execution_count": 10,
     "metadata": {},
     "output_type": "execute_result"
    }
   ],
   "source": [
    "X_test.shape"
   ]
  },
  {
   "cell_type": "code",
   "execution_count": 11,
   "id": "688f039f",
   "metadata": {},
   "outputs": [],
   "source": [
    "def distance(new_vec, old_vec):\n",
    "    summ = 0\n",
    "    for new, old in zip(new_vec,old_vec):\n",
    "        summ += (new - old)**2\n",
    "    return summ"
   ]
  },
  {
   "cell_type": "code",
   "execution_count": 26,
   "id": "2386e91d",
   "metadata": {},
   "outputs": [],
   "source": [
    "import sys\n",
    "# returns array of predicted values\n",
    "# input: X_train, y_train, X_test \n",
    "def predict(X_train, y_train, X_test):\n",
    "    predicted = []\n",
    "    for test_value in X_test:\n",
    "        dist_class = dict()\n",
    "        min = sys.maxsize\n",
    "        for x, y in zip(X_train, y_train):\n",
    "            dist = round(distance(test_value,x),1)\n",
    "            key = str(dist)\n",
    "            if min > dist:\n",
    "                min = dist\n",
    "            dist_class[key] = y\n",
    "        predicted.append(dist_class[str(min)])\n",
    "    return predicted"
   ]
  },
  {
   "cell_type": "code",
   "execution_count": 27,
   "id": "51835ae0",
   "metadata": {
    "scrolled": true
   },
   "outputs": [
    {
     "name": "stdout",
     "output_type": "stream",
     "text": [
      "Wall time: 44.7 s\n"
     ]
    },
    {
     "data": {
      "text/plain": [
       "0.9622222222222222"
      ]
     },
     "execution_count": 27,
     "metadata": {},
     "output_type": "execute_result"
    }
   ],
   "source": [
    "%%time\n",
    "metrics.accuracy_score(y_test, predict(X_train,y_train,X_test))"
   ]
  },
  {
   "cell_type": "code",
   "execution_count": 34,
   "id": "8657799f",
   "metadata": {},
   "outputs": [
    {
     "data": {
      "text/plain": [
       "0.0377777777777778"
      ]
     },
     "execution_count": 34,
     "metadata": {},
     "output_type": "execute_result"
    }
   ],
   "source": [
    "1 - 0.9622222222222222"
   ]
  },
  {
   "cell_type": "code",
   "execution_count": 36,
   "id": "86aef23b",
   "metadata": {},
   "outputs": [],
   "source": [
    "with open('ans_1.txt', 'w') as fout:\n",
    "    fout.write('0.0377777777777778')"
   ]
  },
  {
   "cell_type": "code",
   "execution_count": 28,
   "id": "c324938a",
   "metadata": {},
   "outputs": [],
   "source": [
    "from sklearn.ensemble import RandomForestClassifier"
   ]
  },
  {
   "cell_type": "code",
   "execution_count": 29,
   "id": "1357255c",
   "metadata": {},
   "outputs": [],
   "source": [
    "clf = RandomForestClassifier(n_estimators=1000)"
   ]
  },
  {
   "cell_type": "code",
   "execution_count": 30,
   "id": "f325f08e",
   "metadata": {
    "scrolled": false
   },
   "outputs": [
    {
     "name": "stdout",
     "output_type": "stream",
     "text": [
      "Wall time: 4.89 s\n"
     ]
    },
    {
     "data": {
      "text/plain": [
       "0.9311111111111111"
      ]
     },
     "execution_count": 30,
     "metadata": {},
     "output_type": "execute_result"
    }
   ],
   "source": [
    "%%time\n",
    "clf.fit(X_train,y_train)\n",
    "metrics.accuracy_score(y_test, clf.predict(X_test))"
   ]
  },
  {
   "cell_type": "code",
   "execution_count": 33,
   "id": "012c5f72",
   "metadata": {},
   "outputs": [
    {
     "data": {
      "text/plain": [
       "0.06888888888888889"
      ]
     },
     "execution_count": 33,
     "metadata": {},
     "output_type": "execute_result"
    }
   ],
   "source": [
    "1 - 0.9311111111111111"
   ]
  },
  {
   "cell_type": "code",
   "execution_count": 35,
   "id": "26bb50fb",
   "metadata": {},
   "outputs": [],
   "source": [
    "with open('ans_2.txt', 'w') as fout:\n",
    "    fout.write('0.06888888888888889')"
   ]
  }
 ],
 "metadata": {
  "kernelspec": {
   "display_name": "Python 3",
   "language": "python",
   "name": "python3"
  },
  "language_info": {
   "codemirror_mode": {
    "name": "ipython",
    "version": 3
   },
   "file_extension": ".py",
   "mimetype": "text/x-python",
   "name": "python",
   "nbconvert_exporter": "python",
   "pygments_lexer": "ipython3",
   "version": "3.8.8"
  }
 },
 "nbformat": 4,
 "nbformat_minor": 5
}
